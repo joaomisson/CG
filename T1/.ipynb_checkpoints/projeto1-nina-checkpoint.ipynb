{
 "cells": [
  {
   "cell_type": "markdown",
   "metadata": {
    "id": "uoiIs5I4mX7z"
   },
   "source": [
    "# Trabalho 1\n",
    "**Luísa Souza Moura - 10692179**\n",
    "\n",
    "**Marina Fontes Alcantara Machado - 10692040**"
   ]
  },
  {
   "cell_type": "markdown",
   "metadata": {
    "id": "BJO-tg_vmX76"
   },
   "source": [
    "## Configurações iniciais"
   ]
  },
  {
   "cell_type": "code",
   "execution_count": 1,
   "metadata": {
    "colab": {
     "base_uri": "https://localhost:8080/",
     "height": 374
    },
    "executionInfo": {
     "elapsed": 945,
     "status": "error",
     "timestamp": 1649948682936,
     "user": {
      "displayName": "Victor Rodrigues Russo",
      "userId": "04929703516027418070"
     },
     "user_tz": 180
    },
    "id": "dOwmrEQSmX7_",
    "outputId": "6037e67f-a6ea-43ef-a990-087141482c01"
   },
   "outputs": [
    {
     "ename": "ModuleNotFoundError",
     "errorDetails": {
      "actions": [
       {
        "action": "open_url",
        "actionText": "Open Examples",
        "url": "/notebooks/snippets/importing_libraries.ipynb"
       }
      ]
     },
     "evalue": "ignored",
     "output_type": "error",
     "traceback": [
      "\u001b[0;31m---------------------------------------------------------------------------\u001b[0m",
      "\u001b[0;31mModuleNotFoundError\u001b[0m                       Traceback (most recent call last)",
      "\u001b[0;32m<ipython-input-1-6265888f74ea>\u001b[0m in \u001b[0;36m<module>\u001b[0;34m()\u001b[0m\n\u001b[1;32m      1\u001b[0m \u001b[0;32mimport\u001b[0m \u001b[0mmath\u001b[0m\u001b[0;34m\u001b[0m\u001b[0;34m\u001b[0m\u001b[0m\n\u001b[0;32m----> 2\u001b[0;31m \u001b[0;32mimport\u001b[0m \u001b[0mglfw\u001b[0m\u001b[0;34m\u001b[0m\u001b[0;34m\u001b[0m\u001b[0m\n\u001b[0m\u001b[1;32m      3\u001b[0m \u001b[0;32mimport\u001b[0m \u001b[0mrandom\u001b[0m\u001b[0;34m\u001b[0m\u001b[0;34m\u001b[0m\u001b[0m\n\u001b[1;32m      4\u001b[0m \u001b[0;32mimport\u001b[0m \u001b[0mnumpy\u001b[0m \u001b[0;32mas\u001b[0m \u001b[0mnp\u001b[0m\u001b[0;34m\u001b[0m\u001b[0;34m\u001b[0m\u001b[0m\n\u001b[1;32m      5\u001b[0m \u001b[0;32mimport\u001b[0m \u001b[0mOpenGL\u001b[0m\u001b[0;34m.\u001b[0m\u001b[0mGL\u001b[0m\u001b[0;34m.\u001b[0m\u001b[0mshaders\u001b[0m\u001b[0;34m\u001b[0m\u001b[0;34m\u001b[0m\u001b[0m\n",
      "\u001b[0;31mModuleNotFoundError\u001b[0m: No module named 'glfw'",
      "",
      "\u001b[0;31m---------------------------------------------------------------------------\u001b[0;32m\nNOTE: If your import is failing due to a missing package, you can\nmanually install dependencies using either !pip or !apt.\n\nTo view examples of installing some common dependencies, click the\n\"Open Examples\" button below.\n\u001b[0;31m---------------------------------------------------------------------------\u001b[0m\n"
     ]
    }
   ],
   "source": [
    "import math\n",
    "import glfw\n",
    "import random\n",
    "import numpy as np\n",
    "import OpenGL.GL.shaders\n",
    "\n",
    "from OpenGL.GL import *"
   ]
  },
  {
   "cell_type": "code",
   "execution_count": null,
   "metadata": {
    "executionInfo": {
     "elapsed": 39,
     "status": "aborted",
     "timestamp": 1649948682036,
     "user": {
      "displayName": "Victor Rodrigues Russo",
      "userId": "04929703516027418070"
     },
     "user_tz": 180
    },
    "id": "C3eq7se2mX8G"
   },
   "outputs": [],
   "source": [
    "class GLWrapper:\n",
    "    ''' Classe que faz o setup do OpenGL e permite a visualização de imagens '''\n",
    "    tx, ty, sx, sy = 0.0, 0.0, 1.0, 1.0\n",
    "    theta = np.radians(0)\n",
    "        \n",
    "    def __init__(self, height=700, width=700, title='', figures=None):\n",
    "        ''' Construtor responsável por chamar funções que configuram o OpenGL '''\n",
    "        self.show_light = False\n",
    "        self.figures = figures\n",
    "        self.set_keys()\n",
    "        self.window = self.init_window(height, width, title)\n",
    "        self.add_events(self.window)\n",
    "        self.program, self.vertex, self.fragment = self.set_shaders()\n",
    "        self.compile_shaders(self.vertex, 'vertex')\n",
    "        self.compile_shaders(self.fragment, 'fragment')\n",
    "        self.attach_shaders(self.program, self.vertex, self.fragment)\n",
    "        self.link_program(self.program)\n",
    "        self.loc_color = self.finish_setup(self.program, self.window)\n",
    "    \n",
    "    def set_keys(self):\n",
    "        self.KEY_SPACE = 32\n",
    "        self.KEY_ARROW_DOWN = 264\n",
    "        self.KEY_ARROW_UP = 265\n",
    "        self.KEY_ARROW_LEFT = 32\n",
    "        self.KEY_ARROW_RIGHT = 262\n",
    "        self.KEY_A = 65\n",
    "        self.KEY_S = 83\n",
    "        self.KEY_D = 68\n",
    "        self.KEY_W = 87\n",
    "        self.MOUSE_LEFT = 0\n",
    "        self.MOUSE_RIGHT = 1\n",
    "    \n",
    "    def init_window(self, height, width, title):\n",
    "        ''' Inicializa janela '''\n",
    "        glfw.init()\n",
    "        glfw.window_hint(glfw.VISIBLE, glfw.FALSE);\n",
    "        window = glfw.create_window(height, width, title, None, None)\n",
    "        glfw.make_context_current(window)\n",
    "        return window\n",
    "        \n",
    "    def key_event(self, window, key, scancode, action, mods):\n",
    "        ''' Callback para cliques no teclado '''\n",
    "        if action == 0:\n",
    "            return\n",
    "\n",
    "        delta = 0.02\n",
    "        button = 'Desconhecido'\n",
    "        \n",
    "        if key == self.KEY_W: # sobe ovni\n",
    "            for i in range(len(self.figures['ufo'])):\n",
    "                self.figures['ufo'][i]['ty'] += delta\n",
    "            button = 'W'\n",
    "        \n",
    "        if key == self.KEY_S: # desce ovni\n",
    "            for i in range(len(self.figures['ufo'])):\n",
    "                self.figures['ufo'][i]['ty'] -= delta\n",
    "            button = 'S'\n",
    "        \n",
    "        if key == self.KEY_A: # ovni para a esquerda\n",
    "            for i in range(len(self.figures['ufo'])):\n",
    "                self.figures['ufo'][i]['tx'] -= delta\n",
    "            button = 'A'\n",
    "        \n",
    "        if key == self.KEY_D: # ovni para direita\n",
    "            for i in range(len(self.figures['ufo'])):\n",
    "                self.figures['ufo'][i]['tx'] += delta\n",
    "            button = 'D'\n",
    "        \n",
    "        if key == self.KEY_ARROW_RIGHT: # rotaciona sol e lua\n",
    "            for i in range(len(self.figures['sun'])):\n",
    "                self.figures['sun'][i]['theta'] -= delta\n",
    "            for i in range(len(self.figures['moon'])):\n",
    "                self.figures['moon'][i]['theta'] -= delta\n",
    "            button = 'Seta direita'\n",
    "        \n",
    "        if key == self.KEY_ARROW_UP: # aumenta ovni\n",
    "            for i in range(len(self.figures['ufo'])):\n",
    "                self.figures['ufo'][i]['s'] += delta\n",
    "            button = 'Seta cima'\n",
    "        \n",
    "        if key == self.KEY_ARROW_DOWN: # diminui ovni\n",
    "            for i in range(len(self.figures['ufo'])):\n",
    "                self.figures['ufo'][i]['s'] -= delta\n",
    "            button = 'Seta baixo'\n",
    "        \n",
    "        if key == self.KEY_SPACE: # esconde ou mostra a luz do ovni\n",
    "            self.show_light = not self.show_light\n",
    "\n",
    "    def mouse_event(self, window, button, action, mods):\n",
    "        ''' Callback para cliques no mouse '''\n",
    "        if action == 0:\n",
    "            return \n",
    "        \n",
    "        button_str = 'Desconhecido'\n",
    "        if button == self.MOUSE_LEFT: # carro para a esquerda\n",
    "            for i in range(len(self.figures['car'])):\n",
    "                self.figures['car'][i]['tx'] -= 0.02\n",
    "            button_str = 'Botão Esquerdo'\n",
    "        \n",
    "        if button == self.MOUSE_RIGHT: # carro para a direita\n",
    "            for i in range(len(self.figures['car'])):\n",
    "                self.figures['car'][i]['tx'] += 0.02\n",
    "            button_str = 'Botão Direito'\n",
    "    \n",
    "    def add_events(self, window):\n",
    "        ''' Adiciona callbacks dos eventos '''\n",
    "        glfw.set_key_callback(window, self.key_event)\n",
    "        glfw.set_mouse_button_callback(window, self.mouse_event)\n",
    "    \n",
    "    def set_shaders(self):\n",
    "        ''' Adiciona shaders '''\n",
    "        vertex_code = \"\"\"\n",
    "                attribute vec2 position;\n",
    "                uniform mat4 mat_transformation;\n",
    "                void main(){\n",
    "                    gl_Position = mat_transformation * vec4(position,0.0,1.0);\n",
    "                }\n",
    "                \"\"\"\n",
    "\n",
    "        fragment_code = \"\"\"\n",
    "                uniform vec4 color;\n",
    "                void main(){\n",
    "                    gl_FragColor = color;\n",
    "                }\n",
    "                \"\"\"\n",
    "\n",
    "        program  = glCreateProgram()\n",
    "        vertex   = glCreateShader(GL_VERTEX_SHADER)\n",
    "        fragment = glCreateShader(GL_FRAGMENT_SHADER)\n",
    "        \n",
    "        glShaderSource(vertex, vertex_code)\n",
    "        glShaderSource(fragment, fragment_code)\n",
    "        \n",
    "        return program, vertex, fragment\n",
    "\n",
    "    def compile_shaders(self, shader, name):\n",
    "        ''' Compila shaders '''\n",
    "        glCompileShader(shader)\n",
    "        if not glGetShaderiv(shader, GL_COMPILE_STATUS):\n",
    "            error = glGetShaderInfoLog(shader).decode()\n",
    "            print(error)\n",
    "            raise RuntimeError(f\"Erro de compilacao do {name} Shader\")\n",
    "            \n",
    "    def attach_shaders(self, program, vertex, fragment):\n",
    "        ''' Associa shaders '''\n",
    "        glAttachShader(program, vertex)\n",
    "        glAttachShader(program, fragment)\n",
    "        \n",
    "    def link_program(self, program):\n",
    "        ''' Faz o link do programa '''\n",
    "        glLinkProgram(program)\n",
    "        if not glGetProgramiv(program, GL_LINK_STATUS):\n",
    "            print(glGetProgramInfoLog(program))\n",
    "            raise RuntimeError('Linking error')\n",
    "\n",
    "        glUseProgram(program)\n",
    "    \n",
    "    def finish_setup(self, program, window):\n",
    "        ''' Ultimas configurações '''\n",
    "        loc_color = glGetUniformLocation(program, \"color\")\n",
    "        return loc_color\n",
    "    \n",
    "    def insert_figure_print(self, vertices, mat_transform=None):\n",
    "        ''' Gera um buffer e insere dados vertices na janela, utiliza matriz\n",
    "            de transformação, caso seja informada '''\n",
    "        buffer = glGenBuffers(1)\n",
    "        glBindBuffer(GL_ARRAY_BUFFER, buffer)\n",
    "\n",
    "        glBufferData(GL_ARRAY_BUFFER, vertices.nbytes, vertices, GL_DYNAMIC_DRAW)\n",
    "        glBindBuffer(GL_ARRAY_BUFFER, buffer)\n",
    "\n",
    "        stride = vertices.strides[0]\n",
    "        offset = ctypes.c_void_p(0)\n",
    "\n",
    "        loc = glGetAttribLocation(self.program, \"position\")\n",
    "        glEnableVertexAttribArray(loc)\n",
    "\n",
    "        glVertexAttribPointer(loc, 2, GL_FLOAT, False, stride, offset)\n",
    "\n",
    "        if mat_transform is not None:\n",
    "            loc = glGetUniformLocation(self.program, \"mat_transformation\")\n",
    "            glUniformMatrix4fv(loc, 1, GL_TRUE, mat_transform)\n",
    "        \n",
    "    def get_mat_scale(self, fig_name, xf, yf, pos):\n",
    "        ''' Gera matriz que realiza alteração da escala da imagem \n",
    "            de acordo aos parametros da figura especificada '''\n",
    "        if pos is not None:\n",
    "            s = self.figures[fig_name][pos]['s']\n",
    "        else:\n",
    "            s = self.figures[fig_name]['s']\n",
    "            \n",
    "        mat_scale = np.array([[s, 0.0, 0.0, xf*(1-s)], \n",
    "                              [0.0, s, 0.0, yf*(1-s)], \n",
    "                              [0.0, 0.0, 0.0, 0.0], \n",
    "                              [0.0, 0.0, 0.0, 1.0]], np.float32)\n",
    "        return mat_scale\n",
    "\n",
    "    def get_mat_rotate(self, fig_name, xr, yr, pos):\n",
    "        ''' Gera matriz que realiza alteração de rotação na imagem \n",
    "            de acordo aos parametros da figura especificada'''\n",
    "        if pos is not None:\n",
    "            theta = self.figures[fig_name][pos]['theta']\n",
    "        else:\n",
    "            theta = self.figures[fig_name]['theta']\n",
    "            \n",
    "        mat_rotation = np.array([[np.cos(theta), -np.sin(theta), 0.0, xr-xr*np.cos(theta)+yr*np.sin(theta)], \n",
    "                                 [np.sin(theta), np.cos(theta), 0.0, yr-yr*np.cos(theta)-xr*np.sin(theta)], \n",
    "                                 [0.0, 0.0, 1.0, 0.0], \n",
    "                                 [0.0, 0.0, 0.0, 1.0]], np.float32)\n",
    "        return mat_rotation\n",
    "    \n",
    "    def get_mat_translate(self, fig_name, pos):\n",
    "        ''' Gera matriz que realiza alteração de translação na imagem \n",
    "            de acordo aos parametros da figura especificada'''\n",
    "        if pos is not None:\n",
    "            tx = self.figures[fig_name][pos]['tx']\n",
    "            ty = self.figures[fig_name][pos]['ty']\n",
    "        else:\n",
    "            tx = self.figures[fig_name]['tx']\n",
    "            ty = self.figures[fig_name]['ty']\n",
    "            \n",
    "        mat_translation = np.array([[1.0, 0.0, 0.0, tx], \n",
    "                                    [0.0, 1.0, 0.0, ty], \n",
    "                                    [0.0, 0.0, 1.0, 0.0], \n",
    "                                    [0.0, 0.0, 0.0, 1.0]], np.float32)\n",
    "        return mat_translation\n",
    "    \n",
    "    def get_mat_transform(self, fig_name, xr=0, yr=0, xf=0, yf=0, pos=None):\n",
    "        ''' Gera matriz que realiza a transformação final na imagem \n",
    "            combinando as demais matrizes de acordo aos parametros da figura especificada'''\n",
    "        mat_transform =  self.get_mat_rotate(fig_name, xr, yr, pos) @ \\\n",
    "                         self.get_mat_translate(fig_name, pos) @ \\\n",
    "                         self.get_mat_scale(fig_name, xf, yf, pos)\n",
    "        return mat_transform"
   ]
  },
  {
   "cell_type": "code",
   "execution_count": null,
   "metadata": {
    "executionInfo": {
     "elapsed": 41,
     "status": "aborted",
     "timestamp": 1649948682039,
     "user": {
      "displayName": "Victor Rodrigues Russo",
      "userId": "04929703516027418070"
     },
     "user_tz": 180
    },
    "id": "zDeI5lHtmX8R"
   },
   "outputs": [],
   "source": [
    "class Figure:\n",
    "    ''' Classe para gerar diversas figuras '''\n",
    "    pi = 3.1415\n",
    "    \n",
    "    def __init__(self):\n",
    "        ''' Construtor que inicializa variáveis '''\n",
    "        self.R, self.G, self.B = self.generate_random_color()\n",
    "        self.vertices = None\n",
    "        self.render_type = None\n",
    "        self.start_tx, self.start_ty = None, None\n",
    "        \n",
    "    def get_fig_dict(self):\n",
    "        ''' Retorna propriedades da figura em forma de dicionário '''   \n",
    "        return {\n",
    "                    'vertices': self.vertices, \n",
    "                    'render_type': self.render_type, \n",
    "                    'R': self.R,\n",
    "                    'G': self.G,\n",
    "                    'B': self.B,\n",
    "                    'start_tx': self.start_tx,\n",
    "                    'start_ty': self.start_ty,\n",
    "                    'tx': 0.0,\n",
    "                    'ty': 0.0,\n",
    "                    's': 1.0,\n",
    "                    'theta': 0.0\n",
    "                 }\n",
    "    \n",
    "    def generate_random_color(self):\n",
    "        ''' Gera valores RGB aleatórios '''\n",
    "        R = random.uniform(0, 1)\n",
    "        G = random.uniform(0, 1)\n",
    "        B = random.uniform(0, 1)\n",
    "        return R, G, B\n",
    "    \n",
    "    def set_color(self, R, G, B):\n",
    "        ''' Define uma cor específica '''\n",
    "        self.R = R\n",
    "        self.G = G\n",
    "        self.B = B\n",
    "\n",
    "    def generate_circle(self, num_vertices_circle, center_x, center_y, radius_x, radius_y, \n",
    "                              is_half=False, upside_down=False):\n",
    "        ''' Gera um círculo, elipse, semi circulo ou semi elipse de tamanho, posição \n",
    "            e cor aleatórios ou de acordo aos parametros informados, como raio e centro '''\n",
    "        # checa se será aleatorio ou o especificado\n",
    "        radius_x = radius_x if radius_x is not None else random.uniform(0.2, 0.6)\n",
    "        radius_y = radius_y if radius_y is not None else radius_x\n",
    "        center_x = center_x if center_x is not None else random.uniform(-0.8, 0.8)\n",
    "        center_y = center_y if center_y is not None else random.uniform(-0.8, 0.8)\n",
    "        vertices = np.zeros(num_vertices_circle, [(\"position\", np.float32, 2)])\n",
    "    \n",
    "        # gera os pontos da circunferência\n",
    "        angle = self.pi if upside_down else 0.0\n",
    "        for counter in range(num_vertices_circle):\n",
    "            x = center_x + math.cos(angle)*radius_x\n",
    "            y = center_y + math.sin(angle)*radius_y\n",
    "            angle += self.pi/num_vertices_circle * (1 if is_half else 2)\n",
    "            vertices[counter] = [x,y]\n",
    "        \n",
    "        self.vertices = vertices\n",
    "        self.render_type = GL_TRIANGLE_FAN\n",
    "    \n",
    "    def get_circle(self, center_x=None, center_y=None, radius=None,\n",
    "                         R=None, G=None, B=None, num_vertices_circle=64):\n",
    "        ''' Gera circulo e o retorna como dicionário, além de poder definir sua cor '''\n",
    "        if R is not None and G is not None and B is not None:\n",
    "            self.set_color(R, G, B)\n",
    "            \n",
    "        self.generate_circle(num_vertices_circle, center_x, center_y, radius, radius, False)\n",
    "        self.start_tx = center_x\n",
    "        self.start_ty = center_y\n",
    "        return self.get_fig_dict()\n",
    "    \n",
    "    def get_half_circle(self, center_x=None, center_y=None, radius=None,\n",
    "                      R=None, G=None, B=None, upside_down=False, num_vertices_circle=32):\n",
    "        ''' Gera semi circulo e o retorna como dicionário, além de poder definir sua cor '''\n",
    "        if R is not None and G is not None and B is not None:\n",
    "            self.set_color(R, G, B)\n",
    "            \n",
    "        self.generate_circle(num_vertices_circle, center_x, center_y, \n",
    "                             radius, radius, True, upside_down)\n",
    "        return self.get_fig_dict()\n",
    "    \n",
    "    def get_ellipse(self, center_x=None, center_y=None, radius_x=None, radius_y=None,\n",
    "                    R=None, G=None, B=None, upside_down=False, num_vertices_circle=64):\n",
    "        ''' Gera elipse e a retorna como dicionário, além de poder definir sua cor '''\n",
    "        if R is not None and G is not None and B is not None:\n",
    "            self.set_color(R, G, B)\n",
    "        \n",
    "        self.generate_circle(num_vertices_circle, center_x, center_y, radius_x, radius_y, False, upside_down)\n",
    "        return self.get_fig_dict()\n",
    "    \n",
    "    def generate_rectangle(self, start_x, start_y, side_size_x, side_size_y):\n",
    "        ''' Gera um retangulo de tamanho, posição e cor aleatórios \n",
    "            ou de acordo aos parametros informados, como ponto inicial e tamanho dos lados '''       \n",
    "        # checa se será aleatorio ou o especificado\n",
    "        vertices = np.zeros(4, [(\"position\", np.float32, 2)])\n",
    "        start_x = start_x if start_x is not None else random.uniform(-1, 1)\n",
    "        start_y = start_y if start_y is not None else random.uniform(-1, 1)\n",
    "        side_size_x = side_size_x if side_size_x is not None else random.uniform(0.1, 0.6)\n",
    "        side_size_y = side_size_y if side_size_y is not None else random.uniform(0.1, 0.6)\n",
    "\n",
    "        # gera pontos\n",
    "        vertices['position'] = [\n",
    "                                    (start_x, start_y),\n",
    "                                    (start_x, start_y + side_size_y),\n",
    "                                    (start_x + side_size_x, start_y),\n",
    "                                    (start_x + side_size_x, start_y + side_size_y),\n",
    "                                ]\n",
    "        \n",
    "        self.vertices = vertices\n",
    "        self.render_type = GL_TRIANGLE_STRIP\n",
    "    \n",
    "    def get_rectangle(self, start_x=None, start_y=None, side_size_x=None, side_size_y=None, \n",
    "                   R=None, G=None, B=None):\n",
    "        ''' Gera retangulo e o retorna como dicionário, além de poder definir sua cor '''\n",
    "        if R is not None and G is not None and B is not None:\n",
    "            self.set_color(R, G, B)\n",
    "            \n",
    "        self.generate_rectangle(start_x, start_y, side_size_x, side_size_y)\n",
    "        return self.get_fig_dict()\n",
    "\n",
    "    def generate_random_triangle(self):\n",
    "        ''' Gera pontos aleatorios para um triângulo '''\n",
    "        points = []\n",
    "        for _ in range(3):\n",
    "            x = random.uniform(-1, 1)\n",
    "            y = random.uniform(-1, 1)\n",
    "            points.append((x, y))\n",
    "        return points\n",
    "    \n",
    "    def generate_triangle(self, p1_x, p1_y, height, width):\n",
    "        ''' Gera um triangulo de tamanho, posição e cor aleatórios, \n",
    "            ou de acordo aos parametros informados, como ponto inicial e altura '''\n",
    "        vertices = np.zeros(3, [(\"position\", np.float32, 2)])\n",
    "        \n",
    "        # checa se será aleatorio ou o especificado\n",
    "        if p1_x is None:\n",
    "            points = self.generate_random_triangle()\n",
    "        else:\n",
    "            points = [[p1_x, p1_y], [p1_x+width/2, p1_y-height], [p1_x-width/2, p1_y-height]]\n",
    "\n",
    "        vertices['position'] = points\n",
    "        self.vertices = vertices\n",
    "        self.render_type = GL_TRIANGLES\n",
    "    \n",
    "    def get_triangle(self, p1_x=None, p1_y=None, height=None, width=None, \n",
    "                           R=None, G=None, B=None,):\n",
    "        ''' Gera triangulo e o retorna como dicionário, além de poder definir sua cor '''\n",
    "        if R is not None and G is not None and B is not None:\n",
    "            self.set_color(R, G, B)\n",
    "        \n",
    "        self.generate_triangle(p1_x, p1_y, height, width)\n",
    "        return self.get_fig_dict()\n",
    "    \n",
    "    def get_point_from_center(self, center_x, center_y, radius, line_size, angle):\n",
    "        ''' Gera dois pontos que formam uma linha perpendicular ao circulo de centro e\n",
    "            raio informados '''\n",
    "        if center_x is None:\n",
    "            return list(np.random.uniform(-1, 1, size=(1, 4))[0])\n",
    "        \n",
    "        p1_x = center_x + math.cos(angle)*(radius+0.01)\n",
    "        p1_y = center_y + math.sin(angle)*(radius+0.01)\n",
    "        p2_x = p1_x + math.cos(angle)*line_size\n",
    "        p2_y = p1_y + math.sin(angle)*line_size\n",
    "        \n",
    "        return [p1_x, p1_y, p2_x, p2_y]\n",
    "        \n",
    "    def generate_lines(self, num_lines, center_x, center_y, radius, line_size):\n",
    "        ''' Gera diversas linhas ou pontos de posições e tamanhos aleatórios, \n",
    "             ou de acordo aos parametros informados, como ponto inicial e tamanho dos lados '''\n",
    "        vertices = np.zeros(num_lines*2, [(\"position\", np.float32, 2)])\n",
    "        points = []\n",
    "\n",
    "        angle = 0.0\n",
    "        for _ in range(num_lines):\n",
    "            [p1_x, p1_y, p2_x, p2_y] = self.get_point_from_center(center_x, center_y, \n",
    "                                                                  radius, line_size, angle)\n",
    "            points.append((p1_x, p1_y))\n",
    "            points.append((p2_x, p2_y))\n",
    "            angle += 2*self.pi/num_lines\n",
    "\n",
    "        vertices['position'] = points\n",
    "        self.vertices = vertices\n",
    "        self.render_type = GL_LINES\n",
    "    \n",
    "    def get_lines(self, center_x=None, center_y=None, radius=None, line_size=None, \n",
    "                  R=None, G=None, B=None, num_lines=15):\n",
    "        ''' Gera linhas e as retorna como dicionário, além de poder definir sua cor '''\n",
    "        if R is not None and G is not None and B is not None:\n",
    "            self.set_color(R, G, B)\n",
    "            \n",
    "        self.generate_lines(num_lines, center_x, center_y, radius, line_size)\n",
    "        return self.get_fig_dict()\n",
    "    \n",
    "    def generate_points(self, num_points):\n",
    "        ''' Gera diversas linhas ou pontos de posições e tamanhos aleatórios, \n",
    "            todos tem uma mesma cor '''\n",
    "        vertices = np.zeros(num_points, [(\"position\", np.float32, 2)])\n",
    "        points = []\n",
    "\n",
    "        for _ in range(num_points):\n",
    "            x = random.uniform(-3, 3)\n",
    "            y = random.uniform(-3, 3)\n",
    "            points.append((x, y))\n",
    "\n",
    "        vertices['position'] = points\n",
    "        self.vertices = vertices\n",
    "        self.render_type = GL_POINTS\n",
    "    \n",
    "    def get_points(self, num_points=1, R=None, G=None, B=None):\n",
    "        ''' Gera pontos e os retorna como dicionário, além de poder definir sua cor '''\n",
    "        if R is not None and G is not None and B is not None:\n",
    "            self.set_color(R, G, B)\n",
    "            \n",
    "        self.generate_points(num_points)\n",
    "        return self.get_fig_dict()"
   ]
  },
  {
   "cell_type": "markdown",
   "metadata": {
    "id": "E14MylcZmX8Y"
   },
   "source": [
    "# Questão 2"
   ]
  },
  {
   "cell_type": "code",
   "execution_count": null,
   "metadata": {
    "executionInfo": {
     "elapsed": 44,
     "status": "aborted",
     "timestamp": 1649948682043,
     "user": {
      "displayName": "Victor Rodrigues Russo",
      "userId": "04929703516027418070"
     },
     "user_tz": 180
    },
    "id": "S_DNxwE4mX8c"
   },
   "outputs": [],
   "source": [
    "def get_floor(floor_height):\n",
    "    ''' Gera conjunto de figuras que formam o chão (rua e marcações) '''\n",
    "    gray_tone = 0.4\n",
    "    R_line, G_line, B_line = 1, 0.7, 0\n",
    "    line_width, line_height = 0.5, 0.075\n",
    "    \n",
    "    street = Figure().get_rectangle(-1, -1, 2, floor_height, \n",
    "                                    R=gray_tone, G=gray_tone, B=gray_tone)\n",
    "    line_1 = Figure().get_rectangle(-1, -0.95, line_width, line_height, \n",
    "                                    R=R_line, G=G_line, B=B_line)\n",
    "    line_2 = Figure().get_rectangle(-0.25, -0.95, line_width, line_height, \n",
    "                                    R=R_line, G=G_line, B=B_line)\n",
    "    line_3 = Figure().get_rectangle(0.5, -0.95, line_width, line_height, \n",
    "                                    R=R_line, G=G_line, B=B_line)\n",
    "    \n",
    "    return [street, line_1, line_2, line_3]"
   ]
  },
  {
   "cell_type": "code",
   "execution_count": null,
   "metadata": {
    "executionInfo": {
     "elapsed": 45,
     "status": "aborted",
     "timestamp": 1649948682044,
     "user": {
      "displayName": "Victor Rodrigues Russo",
      "userId": "04929703516027418070"
     },
     "user_tz": 180
    },
    "id": "eHJlplKvmX8g"
   },
   "outputs": [],
   "source": [
    "def get_cloud(center_x, center_y):\n",
    "    ''' Gera conjunto de figuras que formam uma nuvem (diversos circulos) '''\n",
    "    gray_tone = 0.9\n",
    "    circle_diameter = 0.1\n",
    "    \n",
    "    cloud_circle_1 = Figure().get_circle(center_x-0.1, center_y, circle_diameter, \n",
    "                                          R=gray_tone, G=gray_tone, B=gray_tone)\n",
    "    cloud_circle_2 = Figure().get_circle(center_x+0.1, center_y, circle_diameter, \n",
    "                                          R=gray_tone, G=gray_tone, B=gray_tone)\n",
    "    cloud_circle_3 = Figure().get_circle(center_x, center_y-0.05, circle_diameter, \n",
    "                                          R=gray_tone, G=gray_tone, B=gray_tone)\n",
    "    cloud_circle_4 = Figure().get_circle(center_x, center_y+0.05, circle_diameter, \n",
    "                                          R=gray_tone, G=gray_tone, B=gray_tone)\n",
    "    \n",
    "    return [cloud_circle_1, cloud_circle_2, cloud_circle_3, cloud_circle_4]"
   ]
  },
  {
   "cell_type": "code",
   "execution_count": null,
   "metadata": {
    "executionInfo": {
     "elapsed": 48,
     "status": "aborted",
     "timestamp": 1649948682047,
     "user": {
      "displayName": "Victor Rodrigues Russo",
      "userId": "04929703516027418070"
     },
     "user_tz": 180
    },
    "id": "W8Fh_wN7mX8j"
   },
   "outputs": [],
   "source": [
    "def get_sun(center_x, center_y):\n",
    "    ''' Gera conjunto de figuras que formam o sol (sol e raios) '''\n",
    "    sun_diameter = 0.2\n",
    "    R_sun, G_sun, B_sun = 1, 0.9, 0.3\n",
    "    R_ray, G_ray, B_ray = 1, 0.5, 0\n",
    "    \n",
    "    middle_sun = Figure().get_circle(center_x, center_y, sun_diameter, \n",
    "                                      R=R_sun, G=G_sun, B=B_sun)\n",
    "    sun_rays = Figure().get_lines(center_x, center_y, sun_diameter, 0.18, \n",
    "                                   R=R_ray, G=G_ray, B=B_ray)\n",
    "    \n",
    "    return [middle_sun, sun_rays]"
   ]
  },
  {
   "cell_type": "code",
   "execution_count": null,
   "metadata": {
    "executionInfo": {
     "elapsed": 51,
     "status": "aborted",
     "timestamp": 1649948682050,
     "user": {
      "displayName": "Victor Rodrigues Russo",
      "userId": "04929703516027418070"
     },
     "user_tz": 180
    },
    "id": "BS01aroKmX8q"
   },
   "outputs": [],
   "source": [
    "def get_car(start_x, start_y, side_size_x, side_size_y, wheel_radius):\n",
    "    ''' Gera conjunto de figuras que formam o carro (carcaça, rodas e janelas) '''\n",
    "    R_middle, G_middle, B_middle = 0.6, 0.3, 0.8\n",
    "    R_window, G_window, B_window = 0.6, 0.8, 1\n",
    "    gray_tone = 0.3\n",
    "    window_height, window_width = 0.1, 0.1\n",
    "    space_windows = 0.13\n",
    "        \n",
    "    middle_car = Figure().get_rectangle(start_x, start_y, side_size_x, side_size_y, \n",
    "                                         R=R_middle, G=G_middle, B=B_middle)\n",
    "    wheel_1 = Figure().get_circle(side_size_x/5, start_y, wheel_radius, \n",
    "                                   R=gray_tone, G=gray_tone, B=gray_tone)\n",
    "    wheel_2 = Figure().get_circle(side_size_x/5*4, start_y, wheel_radius, \n",
    "                                   R=gray_tone, G=gray_tone, B=gray_tone)\n",
    "    \n",
    "    window_1 = Figure().get_rectangle(start_x, start_y+0.1, window_width, \n",
    "                                      window_height+0.08, R=R_window, G=G_window, B=B_window)\n",
    "    window_2 = Figure().get_rectangle(start_x+space_windows, start_y+0.18, window_width, \n",
    "                                      window_height, R=R_window, G=G_window, B=B_window)\n",
    "    window_3 = Figure().get_rectangle(start_x+(2*space_windows), start_y+0.18, window_width, \n",
    "                                      window_height, R=R_window, G=G_window, B=B_window)\n",
    "    window_4 = Figure().get_rectangle(start_x+(3*space_windows), start_y+0.18, window_width, \n",
    "                                      window_height, R=R_window, G=G_window, B=B_window)\n",
    "    window_5 = Figure().get_rectangle(start_x+(4*space_windows), start_y+0.18, window_width, \n",
    "                                      window_height, R=R_window, G=G_window, B=B_window)\n",
    "\n",
    "    return [middle_car, wheel_1, wheel_2, window_1, window_2, window_3, window_4, window_5]"
   ]
  },
  {
   "cell_type": "code",
   "execution_count": null,
   "metadata": {
    "executionInfo": {
     "elapsed": 52,
     "status": "aborted",
     "timestamp": 1649948682052,
     "user": {
      "displayName": "Victor Rodrigues Russo",
      "userId": "04929703516027418070"
     },
     "user_tz": 180
    },
    "id": "yNM5M-YamX8u"
   },
   "outputs": [],
   "source": [
    "def get_moon(center_x, center_y):\n",
    "    ''' Gera conjunto de figuras que formam a lua (lua e crateras) '''\n",
    "    moon_gray_tone = 0.5\n",
    "    crater_gray_tone = 0.6\n",
    "    \n",
    "    middle_moon = Figure().get_circle(center_x, center_y, 0.2, \n",
    "                                      R=moon_gray_tone, G=moon_gray_tone, B=moon_gray_tone)\n",
    "    crater_1 = Figure().get_circle(center_x-0.05, center_y-0.05, 0.03, \n",
    "                                   R=crater_gray_tone, G=crater_gray_tone, B=crater_gray_tone)\n",
    "    crater_2 = Figure().get_circle(center_x+0.05, center_y+0.03, 0.01, \n",
    "                                   R=crater_gray_tone, G=crater_gray_tone, B=crater_gray_tone)\n",
    "    crater_3 = Figure().get_circle(center_x+0.1, center_y+0.08, 0.02, \n",
    "                                   R=crater_gray_tone, G=crater_gray_tone, B=crater_gray_tone)\n",
    "    crater_4 = Figure().get_circle(center_x-0.1, center_y-0.03, 0.01, \n",
    "                                   R=crater_gray_tone, G=crater_gray_tone, B=crater_gray_tone)\n",
    "    crater_5 = Figure().get_circle(center_x-0.03, center_y+0.07, 0.03, \n",
    "                                   R=crater_gray_tone, G=crater_gray_tone, B=crater_gray_tone)\n",
    "    crater_6 = Figure().get_circle(center_x+0.08, center_y-0.04, 0.02, \n",
    "                                   R=crater_gray_tone, G=crater_gray_tone, B=crater_gray_tone)\n",
    "    crater_7 = Figure().get_circle(center_x+0.1, center_y-0.1, 0.01, \n",
    "                                   R=crater_gray_tone, G=crater_gray_tone, B=crater_gray_tone)\n",
    "    crater_8 = Figure().get_circle(center_x-0.095, center_y+0.095, 0.02, \n",
    "                                   R=crater_gray_tone, G=crater_gray_tone, B=crater_gray_tone)\n",
    "    \n",
    "    return [middle_moon, crater_1, crater_2, crater_3, crater_4, crater_5, crater_6, crater_7, crater_8]"
   ]
  },
  {
   "cell_type": "code",
   "execution_count": null,
   "metadata": {
    "executionInfo": {
     "elapsed": 911,
     "status": "aborted",
     "timestamp": 1649948682911,
     "user": {
      "displayName": "Victor Rodrigues Russo",
      "userId": "04929703516027418070"
     },
     "user_tz": 180
    },
    "id": "-qn0NjpAmX8w"
   },
   "outputs": [],
   "source": [
    "def get_ufo(center_x, center_y):\n",
    "    ''' Gera conjunto de figuras que formam o ovni (cabine, base, luz e detalhes) '''\n",
    "    R_cabin, G_cabin, B_cabin = 0.3, 0.4, 0\n",
    "    R_light, G_light, B_light = 1, 0.9, 0.3\n",
    "    R_circle, G_circle, B_circle = 0.6, 0.8, 1\n",
    "    circle_diameter = 0.01\n",
    "    botton_gray_tone = 0.2\n",
    "    \n",
    "    cabin = Figure().get_half_circle(center_x, center_y, 0.15, R=R_cabin, G=G_cabin, B=B_cabin)\n",
    "    botton = Figure().get_ellipse(center_x, center_y, 0.3, 0.1, \n",
    "                                  R=botton_gray_tone, G=botton_gray_tone, \n",
    "                                  B=botton_gray_tone, upside_down=True)\n",
    "    light = Figure().get_triangle(center_x, center_y, 0.3, 0.2, \n",
    "                                  R=R_light, G=G_light, B=B_light)\n",
    "    \n",
    "    circle_1 = Figure().get_circle(center_x-0.01, center_y-0.05, circle_diameter, \n",
    "                                   R=R_circle, G=G_circle, B=B_circle)\n",
    "    circle_2 = Figure().get_circle(center_x-0.08, center_y-0.04, circle_diameter, \n",
    "                                   R=R_circle, G=G_circle, B=B_circle)\n",
    "    circle_3 = Figure().get_circle(center_x+0.05, center_y-0.045, circle_diameter, \n",
    "                                   R=R_circle, G=G_circle, B=B_circle)\n",
    "    \n",
    "    return [light, botton, cabin, circle_1, circle_2, circle_3]"
   ]
  },
  {
   "cell_type": "code",
   "execution_count": null,
   "metadata": {
    "executionInfo": {
     "elapsed": 914,
     "status": "aborted",
     "timestamp": 1649948682914,
     "user": {
      "displayName": "Victor Rodrigues Russo",
      "userId": "04929703516027418070"
     },
     "user_tz": 180
    },
    "id": "Yg3pJ07-mX80"
   },
   "outputs": [],
   "source": [
    "def get_figs():\n",
    "    ''' Gera todos os objetos que compõem o cenário '''\n",
    "    floor_height = 0.2\n",
    "    wheel_radius = 0.05\n",
    "    \n",
    "    cloud_1 = get_cloud(-0.8, 0.4)\n",
    "    cloud_2 = get_cloud(-0.3, 0.6)\n",
    "    cloud_3 = get_cloud(0.3, 0.2)\n",
    "    sun = get_sun(-1, 0.4)\n",
    "    floor = get_floor(floor_height)\n",
    "    car = get_car(0, -1+floor_height+wheel_radius, 0.7, 0.3, wheel_radius)\n",
    "    moon = get_moon(-1, 0.4)\n",
    "    ufo = get_ufo(0, 0)\n",
    "    stars = Figure().get_points(3000, R=1, G=0.9, B=0.3)\n",
    "    \n",
    "    return {'stars': [stars],\n",
    "            'floor': floor, \n",
    "            'cloud_1': cloud_1, \n",
    "            'cloud_2': cloud_2, \n",
    "            'cloud_3': cloud_3, \n",
    "            'sun': sun, \n",
    "            'moon': moon, \n",
    "            'car': car, \n",
    "            'ufo': ufo\n",
    "           } "
   ]
  },
  {
   "cell_type": "code",
   "execution_count": null,
   "metadata": {
    "executionInfo": {
     "elapsed": 914,
     "status": "aborted",
     "timestamp": 1649948682916,
     "user": {
      "displayName": "Victor Rodrigues Russo",
      "userId": "04929703516027418070"
     },
     "user_tz": 180
    },
    "id": "Z2fWJp6tmX82"
   },
   "outputs": [],
   "source": [
    "def reset_angle(g, name):\n",
    "    ''' Define como 0 o angulo de rotação da figura '''\n",
    "    for i in range(len(g.figures[name])):\n",
    "        g.figures[name][i]['theta'] = 0\n",
    "        \n",
    "def move_cloud(g, name):\n",
    "    ''' Translada nuvem para inicio da tela '''\n",
    "    g.figures[name][0]['tx'] = -0.9-g.figures[name][0]['start_tx']\n",
    "    g.figures[name][1]['tx'] = -1.1-g.figures[name][1]['start_tx']\n",
    "    g.figures[name][2]['tx'] = -1-g.figures[name][2]['start_tx']\n",
    "    g.figures[name][3]['tx'] = -1-g.figures[name][3]['start_tx']"
   ]
  },
  {
   "cell_type": "code",
   "execution_count": null,
   "metadata": {
    "executionInfo": {
     "elapsed": 916,
     "status": "aborted",
     "timestamp": 1649948682919,
     "user": {
      "displayName": "Victor Rodrigues Russo",
      "userId": "04929703516027418070"
     },
     "user_tz": 180
    },
    "id": "ssmrZ45xmX85"
   },
   "outputs": [],
   "source": [
    "figs = get_figs()"
   ]
  },
  {
   "cell_type": "code",
   "execution_count": null,
   "metadata": {
    "executionInfo": {
     "elapsed": 917,
     "status": "aborted",
     "timestamp": 1649948682921,
     "user": {
      "displayName": "Victor Rodrigues Russo",
      "userId": "04929703516027418070"
     },
     "user_tz": 180
    },
    "id": "mZoDFAJXmX87"
   },
   "outputs": [],
   "source": [
    "g = GLWrapper(title='Simples como a vida é', figures=figs)"
   ]
  },
  {
   "cell_type": "code",
   "execution_count": null,
   "metadata": {
    "executionInfo": {
     "elapsed": 921,
     "status": "aborted",
     "timestamp": 1649948682927,
     "user": {
      "displayName": "Victor Rodrigues Russo",
      "userId": "04929703516027418070"
     },
     "user_tz": 180
    },
    "id": "JXhevpIYmX88"
   },
   "outputs": [],
   "source": [
    "glfw.show_window(g.window)"
   ]
  },
  {
   "cell_type": "code",
   "execution_count": null,
   "metadata": {
    "executionInfo": {
     "elapsed": 921,
     "status": "aborted",
     "timestamp": 1649948682928,
     "user": {
      "displayName": "Victor Rodrigues Russo",
      "userId": "04929703516027418070"
     },
     "user_tz": 180
    },
    "id": "RKsASY1YmX8_"
   },
   "outputs": [],
   "source": [
    "def add_fig(g, fig, trans):\n",
    "    ''' Adiciona figura à janela com sua respectiva transformação '''\n",
    "    glUniform4f(g.loc_color, fig['R'], fig['G'], fig['B'], 1.0)\n",
    "    g.insert_figure_print(fig['vertices'], trans)\n",
    "    glDrawArrays(fig['render_type'], 0, len(fig['vertices']))"
   ]
  },
  {
   "cell_type": "code",
   "execution_count": null,
   "metadata": {
    "executionInfo": {
     "elapsed": 922,
     "status": "aborted",
     "timestamp": 1649948682930,
     "user": {
      "displayName": "Victor Rodrigues Russo",
      "userId": "04929703516027418070"
     },
     "user_tz": 180
    },
    "id": "yTIQpFMumX9B"
   },
   "outputs": [],
   "source": [
    "def generate_blue_gradiant(ascending):\n",
    "    ''' Gera vetor de tons de azul que variam no céu '''\n",
    "    if ascending: factor = 1\n",
    "    else: factor = -1\n",
    "        \n",
    "    num_tones_blue = 20\n",
    "    gradiant_blue = [None]*(num_tones_blue*2)\n",
    "    b = 0.5\n",
    "\n",
    "    for i in range(num_tones_blue):\n",
    "        b += factor*(0.5/num_tones_blue)\n",
    "        if ascending: b = min(b, 1)\n",
    "        else: b = max(b, 0)\n",
    "        gradiant_blue[i] = b\n",
    "        gradiant_blue[(2*num_tones_blue)-i-1] = b\n",
    "\n",
    "    return gradiant_blue"
   ]
  },
  {
   "cell_type": "code",
   "execution_count": null,
   "metadata": {
    "executionInfo": {
     "elapsed": 923,
     "status": "aborted",
     "timestamp": 1649948682931,
     "user": {
      "displayName": "Victor Rodrigues Russo",
      "userId": "04929703516027418070"
     },
     "user_tz": 180
    },
    "id": "fjY0PReDmX9D"
   },
   "outputs": [],
   "source": [
    "gradiant_blue_ascending = generate_blue_gradiant(ascending=True)\n",
    "gradiant_blue_descending = generate_blue_gradiant(ascending=False)"
   ]
  },
  {
   "cell_type": "code",
   "execution_count": null,
   "metadata": {
    "executionInfo": {
     "elapsed": 32,
     "status": "aborted",
     "timestamp": 1649948682934,
     "user": {
      "displayName": "Victor Rodrigues Russo",
      "userId": "04929703516027418070"
     },
     "user_tz": 180
    },
    "id": "dpCiXA2VmX9F"
   },
   "outputs": [],
   "source": [
    "night = False\n",
    "num_tones_blue = 20\n",
    "\n",
    "while not glfw.window_should_close(g.window):\n",
    "    glfw.poll_events()\n",
    "    glClear(GL_COLOR_BUFFER_BIT)\n",
    "    \n",
    "    # gera cor do céu de acordo ao theta e ao período do dia\n",
    "    if night: \n",
    "        x = g.figures['moon'][0]['theta']\n",
    "        B = gradiant_blue_descending[round(abs(x)/(1.7/(2*num_tones_blue)))]\n",
    "    else: \n",
    "        x = g.figures['sun'][0]['theta']\n",
    "        B = gradiant_blue_ascending[round(abs(x)/(1.7/(2*num_tones_blue)))]\n",
    "    \n",
    "    R = 0\n",
    "    G = max(B-0.2,0)\n",
    "    glClearColor(R, G, B, 1.0)\n",
    "    \n",
    "    # insere objeto por objeto\n",
    "    for name, fig in g.figures.items():\n",
    "        # não insere itens não condizentes com o período do dia\n",
    "        if 'sun' in name and night:\n",
    "            continue\n",
    "        if 'cloud' in name and night:\n",
    "            continue\n",
    "        if 'stars' in name and not night:\n",
    "            continue\n",
    "        if 'moon' in name and not night:\n",
    "            continue\n",
    "        if 'ufo' in name and not night:\n",
    "            continue\n",
    "        \n",
    "        # insere cada uma das figuras que compõem o objeto\n",
    "        for i, f in enumerate(fig):\n",
    "            xr, yr, xf, yf = 0, 0, 0, 0\n",
    "            if 'ufo' in name and i == 0 and not g.show_light: # não mostra luz do ovni\n",
    "                continue\n",
    "            \n",
    "            if 'stars' in name: # rotaciona estrelas\n",
    "                g.figures[name][i]['theta'] -= 0.0001\n",
    "                xr, yr = 0, -1\n",
    "            \n",
    "            if 'cloud' in name:\n",
    "                g.figures[name][i]['tx'] += 0.001 # translada nuvens\n",
    "                if i == 3 and g.figures[name][i]['tx'] + g.figures[name][i]['start_tx'] > 1:\n",
    "                    move_cloud(g, name)\n",
    "            \n",
    "            if 'sun' in name: # checa se sol chegou ao fim \n",
    "                xr, yr = 0, -1\n",
    "                if g.figures[name][i]['theta'] < -1.5:\n",
    "                    night = True\n",
    "                    reset_angle(g, 'moon')\n",
    "            \n",
    "            if 'moon' in name: # checa se lua chegou ao fim \n",
    "                xr, yr = 0, -1\n",
    "                if g.figures[name][i]['theta'] < -1.5:\n",
    "                    night = False\n",
    "                    reset_angle(g, 'sun')\n",
    "            \n",
    "            # finalmente insere a figura\n",
    "            trans = g.get_mat_transform(name, xr, yr, xf, yf, i)\n",
    "            add_fig(g, f, trans)\n",
    "\n",
    "    glfw.swap_buffers(g.window)\n",
    "\n",
    "glfw.terminate()"
   ]
  }
 ],
 "metadata": {
  "colab": {
   "name": "CG_Trabalho_1.ipynb",
   "provenance": []
  },
  "finalized": {
   "timestamp": 1583114796072,
   "trusted": true
  },
  "kernelspec": {
   "display_name": "Python 3 (ipykernel)",
   "language": "python",
   "name": "python3"
  },
  "language_info": {
   "codemirror_mode": {
    "name": "ipython",
    "version": 3
   },
   "file_extension": ".py",
   "mimetype": "text/x-python",
   "name": "python",
   "nbconvert_exporter": "python",
   "pygments_lexer": "ipython3",
   "version": "3.11.4"
  },
  "toc": {
   "base_numbering": 1,
   "nav_menu": {},
   "number_sections": true,
   "sideBar": true,
   "skip_h1_title": false,
   "title_cell": "Table of Contents",
   "title_sidebar": "Contents",
   "toc_cell": false,
   "toc_position": {},
   "toc_section_display": true,
   "toc_window_display": false
  },
  "varInspector": {
   "cols": {
    "lenName": 16,
    "lenType": 16,
    "lenVar": 40
   },
   "kernels_config": {
    "python": {
     "delete_cmd_postfix": "",
     "delete_cmd_prefix": "del ",
     "library": "var_list.py",
     "varRefreshCmd": "print(var_dic_list())"
    },
    "r": {
     "delete_cmd_postfix": ") ",
     "delete_cmd_prefix": "rm(",
     "library": "var_list.r",
     "varRefreshCmd": "cat(var_dic_list()) "
    }
   },
   "types_to_exclude": [
    "module",
    "function",
    "builtin_function_or_method",
    "instance",
    "_Feature"
   ],
   "window_display": false
  }
 },
 "nbformat": 4,
 "nbformat_minor": 1
}
